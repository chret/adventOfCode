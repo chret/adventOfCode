{
 "cells": [
  {
   "cell_type": "code",
   "execution_count": 1,
   "metadata": {},
   "outputs": [],
   "source": [
    "import numpy as np"
   ]
  },
  {
   "cell_type": "code",
   "execution_count": 2,
   "metadata": {},
   "outputs": [],
   "source": [
    "masses = np.loadtxt(\"input_day1.txt\")"
   ]
  },
  {
   "cell_type": "code",
   "execution_count": 3,
   "metadata": {},
   "outputs": [
    {
     "data": {
      "text/plain": [
       "array([148454., 118001.,  98851.,  51106., 113158., 139801., 126884.,\n",
       "        63241.,  71513.,  60490., 131129.,  76176.,  74841.,  73589.,\n",
       "       130062.,  77999., 140758.,  98182., 101049.,  80951.,  75759.,\n",
       "        92666., 142078.,  89196., 124613., 134713.,  75618.,  62680.,\n",
       "       141366., 108899.,  88419., 133385.,  90018., 123521.,  51919.,\n",
       "        58191., 109523., 106012.,  94564.,  61103.,  72803.,  66309.,\n",
       "       143380., 113708., 146037., 135176., 131177.,  77109., 108287.,\n",
       "        72170.,  87055., 121407., 126216., 139520., 120675., 103833.,\n",
       "       130708.,  74029., 149840., 117122., 105745.,  81186.,  51331.,\n",
       "        72686.,  52095.,  72612.,  76915., 104859., 114009.,  69714.,\n",
       "       130716., 133106.,  73911.,  79766.,  56647.,  98035., 103504.,\n",
       "        93728., 111546.,  57637.,  68064.,  62803.,  72759., 144845.,\n",
       "        80084., 139247., 139905., 112807.,  87844., 149388.,  76795.,\n",
       "       135703., 120523., 137422., 108335.,  60206., 133851., 138574.,\n",
       "       141740.,  74398.])"
      ]
     },
     "execution_count": 3,
     "metadata": {},
     "output_type": "execute_result"
    }
   ],
   "source": [
    "masses"
   ]
  },
  {
   "cell_type": "code",
   "execution_count": 6,
   "metadata": {},
   "outputs": [],
   "source": [
    "totalFuel = 0\n",
    "for mass in masses:\n",
    "    totalFuel = totalFuel + np.floor(mass/3.)-2"
   ]
  },
  {
   "cell_type": "code",
   "execution_count": 7,
   "metadata": {},
   "outputs": [
    {
     "data": {
      "text/plain": [
       "3367126.0"
      ]
     },
     "execution_count": 7,
     "metadata": {},
     "output_type": "execute_result"
    }
   ],
   "source": [
    "totalFuel"
   ]
  },
  {
   "cell_type": "code",
   "execution_count": 16,
   "metadata": {},
   "outputs": [],
   "source": [
    "def fuelRequirement(mass):\n",
    "    fuel = np.floor(mass/3.)-2\n",
    "    if fuel < 0:\n",
    "        return 0\n",
    "    return fuel + fuelRequirement(fuel)"
   ]
  },
  {
   "cell_type": "code",
   "execution_count": 17,
   "metadata": {},
   "outputs": [],
   "source": [
    "totalFuel = 0\n",
    "for mass in masses:\n",
    "    totalFuel = totalFuel + fuelRequirement(mass)"
   ]
  },
  {
   "cell_type": "code",
   "execution_count": 18,
   "metadata": {},
   "outputs": [
    {
     "data": {
      "text/plain": [
       "5047796.0"
      ]
     },
     "execution_count": 18,
     "metadata": {},
     "output_type": "execute_result"
    }
   ],
   "source": [
    "totalFuel"
   ]
  },
  {
   "cell_type": "code",
   "execution_count": 15,
   "metadata": {},
   "outputs": [
    {
     "data": {
      "text/plain": [
       "50346.0"
      ]
     },
     "execution_count": 15,
     "metadata": {},
     "output_type": "execute_result"
    }
   ],
   "source": [
    "fuelRequirement(100756)"
   ]
  },
  {
   "cell_type": "code",
   "execution_count": null,
   "metadata": {},
   "outputs": [],
   "source": []
  }
 ],
 "metadata": {
  "kernelspec": {
   "display_name": "Python 3",
   "language": "python",
   "name": "python3"
  },
  "language_info": {
   "codemirror_mode": {
    "name": "ipython",
    "version": 3
   },
   "file_extension": ".py",
   "mimetype": "text/x-python",
   "name": "python",
   "nbconvert_exporter": "python",
   "pygments_lexer": "ipython3",
   "version": "3.6.5"
  }
 },
 "nbformat": 4,
 "nbformat_minor": 2
}
