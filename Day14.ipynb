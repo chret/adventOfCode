{
 "cells": [
  {
   "cell_type": "code",
   "execution_count": 18,
   "metadata": {},
   "outputs": [
    {
     "name": "stdout",
     "output_type": "stream",
     "text": [
      "{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}\n"
     ]
    }
   ],
   "source": [
    "#file=open(\"input_day14_test1.txt\",\"r\")\n",
    "file=open(\"input_day14.txt\",\"r\")\n",
    "\n",
    "fileLines=file.readlines()\n",
    "file.close()\n",
    "\n",
    "\n",
    "def extractInElems(line):\n",
    "    curString = line\n",
    "    while True:\n",
    "        idx = curString.find(', ')\n",
    "        if idx != -1:\n",
    "            sepIdx = curString.find(' ')\n",
    "            yield (int(curString[0:sepIdx]), curString[sepIdx+1:idx])\n",
    "            curString = curString[idx+2:]\n",
    "        else:\n",
    "            idx = curString.find(' => ')\n",
    "            if idx != -1:\n",
    "                sepIdx = curString.find(' ')\n",
    "                yield (int(curString[0:sepIdx]), curString[sepIdx+1:idx])\n",
    "                return\n",
    "            else:\n",
    "                return\n",
    "\n",
    "def extractOutElem(line):\n",
    "    idx = line.find('=> ')\n",
    "    if idx != -1:\n",
    "        line = line[idx+3:]\n",
    "        sepIdx = line.find(' ')\n",
    "        endIdx = line.find('\\n')\n",
    "        return (int(line[0:sepIdx]), line[sepIdx+1:endIdx])\n",
    "    else:\n",
    "        print(\"Error in parsing\")\n",
    "\n",
    "        \n",
    "factoryReceipts={}\n",
    "for line in fileLines:\n",
    "    inElems = [tup for tup in extractInElems(line)]\n",
    "    outElem = extractOutElem(line)\n",
    "    factoryReceipts[outElem[1]] = [outElem[0]] + inElems\n",
    "    \n",
    "print(factoryReceipts)\n"
   ]
  },
  {
   "cell_type": "code",
   "execution_count": 19,
   "metadata": {},
   "outputs": [],
   "source": [
    "import math\n",
    "def determineElementsDemand(factoryReceipts, element, amount, elementStorage):\n",
    "    \n",
    "    #print(element, amount, elementStorage)\n",
    "    \n",
    "    if amount == 0:\n",
    "        return\n",
    "    \n",
    "    if element == 'ORE':\n",
    "        if 'ORE' in elementStorage:\n",
    "            elementStorage['ORE'] += amount\n",
    "        else:\n",
    "            elementStorage['ORE'] = amount\n",
    "        return\n",
    "    \n",
    "    receipt = factoryReceipts[element]\n",
    "    \n",
    "    #print(\" -> \", receipt)\n",
    "    \n",
    "    receiptAmount= 0\n",
    "    if element in elementStorage:\n",
    "        amountOfElementInStorage = elementStorage[element]\n",
    "        if amount <= amountOfElementInStorage:\n",
    "            receiptAmount = 0\n",
    "        else:\n",
    "            receiptAmount = math.ceil((amount-amountOfElementInStorage) / receipt[0])\n",
    "\n",
    "        createdAmount = receipt[0] * receiptAmount\n",
    "        elementStorage[element] += createdAmount - amount\n",
    "    else:\n",
    "        receiptAmount = math.ceil(amount / receipt[0])\n",
    "        createdAmount = receipt[0] * receiptAmount\n",
    "        elementStorage[element] = createdAmount - amount\n",
    "    #print(\" -> \", receiptAmount, elementStorage)\n",
    "    \n",
    "    for component in receipt[1:]:\n",
    "        determineElementsDemand(factoryReceipts,component[1],component[0]*receiptAmount,elementStorage)\n",
    "      \n",
    "    return\n",
    "\n"
   ]
  },
  {
   "cell_type": "code",
   "execution_count": 9,
   "metadata": {},
   "outputs": [
    {
     "name": "stdout",
     "output_type": "stream",
     "text": [
      "{'FUEL': 0, 'AB': 0, 'A': 0, 'ORE': 165, 'B': 1, 'BC': 0, 'C': 3, 'CA': 0}\n",
      "Ore demand:  165\n"
     ]
    }
   ],
   "source": [
    "#task 1\n",
    "elementStorage={}\n",
    "determineElementsDemand(factoryReceipts,'FUEL',1,elementStorage)\n",
    "print(elementStorage)\n",
    "oreDemand = elementStorage['ORE']\n",
    "print(\"Ore demand: \",oreDemand)"
   ]
  },
  {
   "cell_type": "code",
   "execution_count": 20,
   "metadata": {},
   "outputs": [
    {
     "name": "stdout",
     "output_type": "stream",
     "text": [
      "FUEL for given ore demand:  1572358\n"
     ]
    }
   ],
   "source": [
    "# task 2\n",
    "\n",
    "def storageIsEmpty(elementStorage):\n",
    "    for element in elementStorage:\n",
    "        if element != 'ORE':\n",
    "            if elementStorage[element] != 0:\n",
    "                return False\n",
    "    return True\n",
    "\n",
    "oreCapacity =1000000000000\n",
    "fuelGenerated = 0\n",
    "elementStorage={}\n",
    "while True:\n",
    "    determineElementsDemand(factoryReceipts,'FUEL',1,elementStorage)\n",
    "    oreDemand = elementStorage['ORE']\n",
    "    #print(\"Current ore demand: \", oreDemand)\n",
    "    if oreDemand <= oreCapacity:\n",
    "        fuelGenerated += 1\n",
    "    else:\n",
    "        break\n",
    "    # check for cycles to speed up calculation\n",
    "    if storageIsEmpty(elementStorage):\n",
    "        print(\"---------------Found cycle!--------------\")\n",
    "        numberOfCycles = oreCapacity // oreDemand\n",
    "        elementStorage['ORE'] = oreDemand * numberOfCycles\n",
    "        fuelGenerated = fuelGenerated * numberOfCycles\n",
    "print(\"FUEL for given ore demand: \", fuelGenerated)"
   ]
  },
  {
   "cell_type": "code",
   "execution_count": null,
   "metadata": {},
   "outputs": [],
   "source": []
  },
  {
   "cell_type": "code",
   "execution_count": null,
   "metadata": {},
   "outputs": [],
   "source": []
  },
  {
   "cell_type": "code",
   "execution_count": null,
   "metadata": {},
   "outputs": [],
   "source": []
  }
 ],
 "metadata": {
  "kernelspec": {
   "display_name": "Python 3",
   "language": "python",
   "name": "python3"
  },
  "language_info": {
   "codemirror_mode": {
    "name": "ipython",
    "version": 3
   },
   "file_extension": ".py",
   "mimetype": "text/x-python",
   "name": "python",
   "nbconvert_exporter": "python",
   "pygments_lexer": "ipython3",
   "version": "3.6.5"
  }
 },
 "nbformat": 4,
 "nbformat_minor": 2
}
