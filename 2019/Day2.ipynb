{
 "cells": [
  {
   "cell_type": "code",
   "execution_count": 1,
   "metadata": {},
   "outputs": [],
   "source": [
    "import numpy as np"
   ]
  },
  {
   "cell_type": "code",
   "execution_count": 32,
   "metadata": {},
   "outputs": [],
   "source": [
    "opcode=np.loadtxt(\"input_day2.txt\",delimiter=\",\",dtype=int)"
   ]
  },
  {
   "cell_type": "code",
   "execution_count": 33,
   "metadata": {},
   "outputs": [
    {
     "data": {
      "text/plain": [
       "array([  1,   0,   0,   3,   1,   1,   2,   3,   1,   3,   4,   3,   1,\n",
       "         5,   0,   3,   2,   6,   1,  19,   1,  19,   5,  23,   2,   9,\n",
       "        23,  27,   1,   5,  27,  31,   1,   5,  31,  35,   1,  35,  13,\n",
       "        39,   1,  39,   9,  43,   1,   5,  43,  47,   1,  47,   6,  51,\n",
       "         1,  51,  13,  55,   1,  55,   9,  59,   1,  59,  13,  63,   2,\n",
       "        63,  13,  67,   1,  67,  10,  71,   1,  71,   6,  75,   2,  10,\n",
       "        75,  79,   2,  10,  79,  83,   1,   5,  83,  87,   2,   6,  87,\n",
       "        91,   1,  91,   6,  95,   1,  95,  13,  99,   2,  99,  13, 103,\n",
       "         1, 103,   9, 107,   1,  10, 107, 111,   2, 111,  13, 115,   1,\n",
       "        10, 115, 119,   1,  10, 119, 123,   2,  13, 123, 127,   2,   6,\n",
       "       127, 131,   1,  13, 131, 135,   1, 135,   2, 139,   1, 139,   6,\n",
       "         0,  99,   2,   0,  14,   0])"
      ]
     },
     "execution_count": 33,
     "metadata": {},
     "output_type": "execute_result"
    }
   ],
   "source": [
    "opcode"
   ]
  },
  {
   "cell_type": "code",
   "execution_count": 34,
   "metadata": {},
   "outputs": [],
   "source": [
    "opcode[1] = 12\n",
    "opcode[2] = 2"
   ]
  },
  {
   "cell_type": "code",
   "execution_count": 27,
   "metadata": {},
   "outputs": [],
   "source": [
    "def processOpcode(opcode, idx):\n",
    "    if opcode[idx] == 99:\n",
    "        return\n",
    "    elif opcode[idx] == 1:\n",
    "        arg1Idx = opcode[idx+1]\n",
    "        arg2Idx = opcode[idx+2]\n",
    "        resIdx = opcode[idx+3]\n",
    "        opcode[resIdx] = opcode[arg1Idx] + opcode[arg2Idx]\n",
    "        return processOpcode(opcode,idx+4)\n",
    "    elif opcode[idx] == 2:\n",
    "        arg1Idx = opcode[idx+1]\n",
    "        arg2Idx = opcode[idx+2]\n",
    "        resIdx = opcode[idx+3]\n",
    "        opcode[resIdx] = opcode[arg1Idx] * opcode[arg2Idx]\n",
    "    else:\n",
    "        print(\"Invalid code \", opcode, idx, opcode[idx])\n",
    "    \n",
    "    return processOpcode(opcode,idx+4)\n",
    "    "
   ]
  },
  {
   "cell_type": "code",
   "execution_count": 20,
   "metadata": {},
   "outputs": [
    {
     "name": "stdout",
     "output_type": "stream",
     "text": [
      "[30, 1, 1, 4, 2, 5, 6, 0, 99]\n"
     ]
    }
   ],
   "source": [
    "testopcode=[1,1,1,4,99,5,6,0,99]\n",
    "processOpcode(testopcode,0)\n",
    "print(testopcode)"
   ]
  },
  {
   "cell_type": "code",
   "execution_count": 35,
   "metadata": {},
   "outputs": [],
   "source": [
    "processOpcode(opcode,0)"
   ]
  },
  {
   "cell_type": "code",
   "execution_count": 36,
   "metadata": {},
   "outputs": [
    {
     "data": {
      "text/plain": [
       "4090689"
      ]
     },
     "execution_count": 36,
     "metadata": {},
     "output_type": "execute_result"
    }
   ],
   "source": [
    "opcode[0]"
   ]
  },
  {
   "cell_type": "code",
   "execution_count": 37,
   "metadata": {},
   "outputs": [],
   "source": [
    "# task 2"
   ]
  },
  {
   "cell_type": "code",
   "execution_count": 42,
   "metadata": {},
   "outputs": [],
   "source": [
    "opcode=np.loadtxt(\"input_day2.txt\",delimiter=\",\",dtype=int)"
   ]
  },
  {
   "cell_type": "code",
   "execution_count": 43,
   "metadata": {},
   "outputs": [
    {
     "name": "stdout",
     "output_type": "stream",
     "text": [
      "noun =  77  verb =  33\n",
      "res =  7733\n"
     ]
    }
   ],
   "source": [
    "for noun in range(0,100):\n",
    "    for verb in range(0,100):\n",
    "        tempopcode = opcode.copy()\n",
    "        tempopcode[1] = noun\n",
    "        tempopcode[2] = verb\n",
    "        processOpcode(tempopcode,0)\n",
    "        \n",
    "        if(tempopcode[0] == 19690720):\n",
    "            print(\"noun = \", noun, \" verb = \", verb )\n",
    "            print(\"res = \", noun * 100+verb)"
   ]
  },
  {
   "cell_type": "code",
   "execution_count": null,
   "metadata": {},
   "outputs": [],
   "source": []
  }
 ],
 "metadata": {
  "kernelspec": {
   "display_name": "Python 3",
   "language": "python",
   "name": "python3"
  },
  "language_info": {
   "codemirror_mode": {
    "name": "ipython",
    "version": 3
   },
   "file_extension": ".py",
   "mimetype": "text/x-python",
   "name": "python",
   "nbconvert_exporter": "python",
   "pygments_lexer": "ipython3",
   "version": "3.6.5"
  }
 },
 "nbformat": 4,
 "nbformat_minor": 2
}
