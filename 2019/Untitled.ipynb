{
 "cells": [
  {
   "cell_type": "code",
   "execution_count": 1,
   "metadata": {},
   "outputs": [],
   "source": [
    "import numpy as np"
   ]
  },
  {
   "cell_type": "code",
   "execution_count": 9,
   "metadata": {},
   "outputs": [
    {
     "name": "stdout",
     "output_type": "stream",
     "text": [
      "0.0\n",
      "0.5\n",
      "1.0\n",
      "0.5\n"
     ]
    }
   ],
   "source": [
    "def mapFunc(x,y):\n",
    "    return np.arctan2(abs(y),x)/(np.pi)\n",
    "\n",
    "print(mapFunc(1,0))\n",
    "print(mapFunc(0,1))\n",
    "print(mapFunc(-1,0))\n",
    "print(mapFunc(0,-1))"
   ]
  },
  {
   "cell_type": "code",
   "execution_count": 9,
   "metadata": {},
   "outputs": [],
   "source": [
    "import numpy as np\n",
    "import matplotlib.pyplot as plt"
   ]
  },
  {
   "cell_type": "code",
   "execution_count": 18,
   "metadata": {},
   "outputs": [
    {
     "name": "stdout",
     "output_type": "stream",
     "text": [
      "523.5987755982989\n",
      "[-9.9 -6.9 -3.9 -0.9  2.1  5.1  8.1]\n",
      "[  0.           0.          87.78028753 220.9167954  186.98759474\n",
      "  27.91409792   0.        ]\n",
      "523.5987755982989\n"
     ]
    },
    {
     "data": {
      "image/png": "[encoded data removed]",
      "text/plain": [
       "<Figure size 432x288 with 1 Axes>"
      ]
     },
     "metadata": {},
     "output_type": "display_data"
    }
   ],
   "source": [
    "def sphereShell(r, R, h):\n",
    "    r1 = max(min(r-h/2,R),-R)\n",
    "    r2 = max(min(r+h/2,R),-R)\n",
    "    \n",
    "    a1 = np.sqrt(R**2 - r1**2)\n",
    "    a2 = np.sqrt(R**2 - r2**2)\n",
    "    \n",
    "    hNew = r2-r1\n",
    "    \n",
    "    V = np.pi * hNew / 6 * (3*a1**2 + 3*a2**2 + hNew**2)\n",
    "    \n",
    "    return V\n",
    "\n",
    "radius=5\n",
    "h = 3\n",
    "print(np.pi*4/3 * radius**3)\n",
    "rValues = np.arange(-2*radius, 2*radius, h) + 0.1\n",
    "vValues = np.array([sphereShell(r, radius, h) for r in rValues])\n",
    "print(rValues)\n",
    "print(vValues)\n",
    "print(sum(vValues))\n",
    "\n",
    "plt.plot(rValues, vValues)\n",
    "plt.show()"
   ]
  },
  {
   "cell_type": "code",
   "execution_count": null,
   "metadata": {},
   "outputs": [],
   "source": []
  }
 ],
 "metadata": {
  "kernelspec": {
   "display_name": "Python 3",
   "language": "python",
   "name": "python3"
  },
  "language_info": {
   "codemirror_mode": {
    "name": "ipython",
    "version": 3
   },
   "file_extension": ".py",
   "mimetype": "text/x-python",
   "name": "python",
   "nbconvert_exporter": "python",
   "pygments_lexer": "ipython3",
   "version": "3.6.5"
  }
 },
 "nbformat": 4,
 "nbformat_minor": 2
}
