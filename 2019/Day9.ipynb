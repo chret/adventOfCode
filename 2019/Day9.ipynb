{
 "cells": [
  {
   "cell_type": "code",
   "execution_count": 1,
   "metadata": {},
   "outputs": [],
   "source": [
    "import numpy as np"
   ]
  },
  {
   "cell_type": "code",
   "execution_count": 26,
   "metadata": {},
   "outputs": [],
   "source": [
    "opcodeInput=np.loadtxt(\"input_day9.txt\",delimiter=\",\",dtype=np.int64)"
   ]
  },
  {
   "cell_type": "code",
   "execution_count": 21,
   "metadata": {},
   "outputs": [],
   "source": [
    "opcodeInput=np.array([109,1,204,-1,1001,100,1,100,1008,100,16,101,1006,101,0,99])"
   ]
  },
  {
   "cell_type": "code",
   "execution_count": 80,
   "metadata": {},
   "outputs": [],
   "source": [
    "opcodeInput=np.array([1102,34915192,34915192,7,4,7,99,0],dtype=np.int64)\n",
    "# python int would be without size and thus upcast if overflown, but numpy type is fixed "
   ]
  },
  {
   "cell_type": "code",
   "execution_count": 60,
   "metadata": {},
   "outputs": [],
   "source": [
    "opcodeInput=np.array([104,1125899906842624,99])"
   ]
  },
  {
   "cell_type": "code",
   "execution_count": 3,
   "metadata": {},
   "outputs": [],
   "source": [
    "class OpCodeManager:\n",
    "    def __init__(self, opcode):\n",
    "        self.opcode = opcode\n",
    "        self.relativeBaseIdx=0\n",
    "    def __getitem__(self, idx):\n",
    "        if idx >= self.opcode.size:\n",
    "            self.opcode.resize(idx+1, refcheck=False) # fill rest with zeros\n",
    "        return self.opcode[idx]\n",
    "    def __setitem__(self, idx, value):\n",
    "        if idx >= self.opcode.size:\n",
    "            self.opcode.resize(idx+1, refcheck=False) # fill rest with zeros\n",
    "        self.opcode[idx] = value"
   ]
  },
  {
   "cell_type": "code",
   "execution_count": 32,
   "metadata": {},
   "outputs": [],
   "source": [
    "def decodeCommand(command):\n",
    "    code=command%100\n",
    "    p1Mode=int(command/100)%10\n",
    "    p2Mode=int(command/1000)%10\n",
    "    p3Mode=int(command/10000)%10\n",
    "    return [code, p1Mode, p2Mode, p3Mode]\n",
    "\n",
    "def getArgument(opcode, mode, parameter):\n",
    "    if mode == 0:\n",
    "        # position mode\n",
    "        return opcode[parameter]\n",
    "    elif mode == 1:\n",
    "        # immediate mode\n",
    "        return parameter\n",
    "    else:\n",
    "        # relative mode\n",
    "        return opcode[opcode.relativeBaseIdx+parameter]\n",
    "    \n",
    "def getWritePosition(opcode, mode, parameter):\n",
    "    if mode == 0:\n",
    "        # position mode\n",
    "        return parameter\n",
    "    elif mode == 1:\n",
    "        # immediate mode\n",
    "        print(\"ERROR! Immediate mode not intended for writing\")\n",
    "        print(mode, parameter, opcode)\n",
    "    else:\n",
    "        # relative mode\n",
    "        return opcode.relativeBaseIdx+parameter"
   ]
  },
  {
   "cell_type": "code",
   "execution_count": 43,
   "metadata": {},
   "outputs": [],
   "source": [
    "def processOpcode(opcode, idx):\n",
    "    \n",
    "    while True:\n",
    "       \n",
    "        decoded = decodeCommand(opcode[idx])\n",
    "\n",
    "        if decoded[0] == 99:\n",
    "            return\n",
    "        elif decoded[0] == 1:\n",
    "            #add p1 p2 p3\n",
    "            p1 = opcode[idx+1]\n",
    "            p2 = opcode[idx+2]\n",
    "            p3 = opcode[idx+3]\n",
    "            arg1 = getArgument(opcode,decoded[1],p1)\n",
    "            arg2 = getArgument(opcode,decoded[2],p2)\n",
    "            arg3 = getWritePosition(opcode,decoded[3],p3)\n",
    "            opcode[arg3] = arg1 + arg2\n",
    "            idx+=4\n",
    "        elif decoded[0] == 2:\n",
    "            #multiply p1 p2 p3\n",
    "            p1 = opcode[idx+1]\n",
    "            p2 = opcode[idx+2]\n",
    "            p3 = opcode[idx+3]\n",
    "            arg1 = getArgument(opcode,decoded[1],p1)\n",
    "            arg2 = getArgument(opcode,decoded[2],p2)\n",
    "            arg3 = getWritePosition(opcode,decoded[3],p3)\n",
    "            opcode[arg3] = arg1 * arg2\n",
    "            idx+=4\n",
    "        elif decoded[0] == 3:\n",
    "            #input p1\n",
    "            p1 = opcode[idx+1]\n",
    "            arg1 = getWritePosition(opcode,decoded[1],p1)\n",
    "            var = input(\"Please enter input: \")\n",
    "            opcode[arg1] = np.int64(var)\n",
    "            idx+=2\n",
    "        elif decoded[0] == 4:\n",
    "            #output p1\n",
    "            p1 = opcode[idx+1]\n",
    "            arg1 = getArgument(opcode,decoded[1],p1)\n",
    "            print(\"Output: \", arg1)\n",
    "            idx+=2\n",
    "        elif decoded[0] == 5:\n",
    "            #jump-if-true p1 p2\n",
    "            p1 = opcode[idx+1]\n",
    "            p2 = opcode[idx+2]\n",
    "            arg1 = getArgument(opcode,decoded[1],p1)\n",
    "            arg2 = getArgument(opcode,decoded[2],p2)\n",
    "            if arg1 != 0:\n",
    "                idx=arg2\n",
    "            else:      \n",
    "                idx=idx+3\n",
    "        elif decoded[0] == 6:\n",
    "            #jump-if-false p1 p2\n",
    "            p1 = opcode[idx+1]\n",
    "            p2 = opcode[idx+2]\n",
    "            arg1 = getArgument(opcode,decoded[1],p1)\n",
    "            arg2 = getArgument(opcode,decoded[2],p2)\n",
    "            if arg1 == 0:\n",
    "                idx=arg2\n",
    "            else:      \n",
    "                idx+=3\n",
    "        elif decoded[0] == 7:\n",
    "            #less-than p1 p2 p3\n",
    "            p1 = opcode[idx+1]\n",
    "            p2 = opcode[idx+2]\n",
    "            p3 = opcode[idx+3]\n",
    "            arg1 = getArgument(opcode,decoded[1],p1)\n",
    "            arg2 = getArgument(opcode,decoded[2],p2)\n",
    "            arg3 = getWritePosition(opcode,decoded[3],p3)\n",
    "            if arg1 < arg2:\n",
    "                opcode[arg3]=1\n",
    "            else:      \n",
    "                opcode[arg3]=0\n",
    "            idx+=4\n",
    "        elif decoded[0] == 8:\n",
    "            #equals p1 p2 p3\n",
    "            p1 = opcode[idx+1]\n",
    "            p2 = opcode[idx+2]\n",
    "            p3 = opcode[idx+3]\n",
    "            arg1 = getArgument(opcode,decoded[1],p1)\n",
    "            arg2 = getArgument(opcode,decoded[2],p2)\n",
    "            arg3 = getWritePosition(opcode,decoded[3],p3)\n",
    "            if arg1 == arg2:\n",
    "                opcode[arg3]=1\n",
    "            else:      \n",
    "                opcode[arg3]=0\n",
    "            idx+=4\n",
    "        elif decoded[0] == 9:\n",
    "            # change relative base p1\n",
    "            p1 = opcode[idx+1]\n",
    "            arg1 = getArgument(opcode,decoded[1],p1)\n",
    "            opcode.relativeBaseIdx += arg1\n",
    "            idx+=2\n",
    "        else:\n",
    "            print(\"Invalid code \", opcode, idx, opcode[idx], decoded)\n",
    "            return"
   ]
  },
  {
   "cell_type": "code",
   "execution_count": 44,
   "metadata": {},
   "outputs": [
    {
     "name": "stdout",
     "output_type": "stream",
     "text": [
      "Please enter input: 1\n",
      "Output:  3780860499\n"
     ]
    }
   ],
   "source": [
    "#task 1\n",
    "opcodeMgr=OpCodeManager(opcodeInput.copy())\n",
    "processOpcode(opcodeMgr,0)"
   ]
  },
  {
   "cell_type": "code",
   "execution_count": 45,
   "metadata": {},
   "outputs": [
    {
     "name": "stdout",
     "output_type": "stream",
     "text": [
      "Please enter input: 2\n",
      "Output:  33343\n"
     ]
    }
   ],
   "source": [
    "#task 2\n",
    "opcodeMgr=OpCodeManager(opcodeInput.copy())\n",
    "processOpcode(opcodeMgr,0)"
   ]
  },
  {
   "cell_type": "code",
   "execution_count": 50,
   "metadata": {},
   "outputs": [],
   "source": []
  },
  {
   "cell_type": "code",
   "execution_count": 73,
   "metadata": {},
   "outputs": [
    {
     "data": {
      "text/plain": [
       "int"
      ]
     },
     "execution_count": 73,
     "metadata": {},
     "output_type": "execute_result"
    }
   ],
   "source": []
  },
  {
   "cell_type": "code",
   "execution_count": null,
   "metadata": {},
   "outputs": [],
   "source": []
  }
 ],
 "metadata": {
  "kernelspec": {
   "display_name": "Python 3",
   "language": "python",
   "name": "python3"
  },
  "language_info": {
   "codemirror_mode": {
    "name": "ipython",
    "version": 3
   },
   "file_extension": ".py",
   "mimetype": "text/x-python",
   "name": "python",
   "nbconvert_exporter": "python",
   "pygments_lexer": "ipython3",
   "version": "3.6.5"
  }
 },
 "nbformat": 4,
 "nbformat_minor": 2
}
