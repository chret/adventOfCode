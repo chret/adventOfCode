{
 "cells": [
  {
   "cell_type": "code",
   "execution_count": 1,
   "metadata": {},
   "outputs": [],
   "source": [
    "import numpy as np"
   ]
  },
  {
   "cell_type": "code",
   "execution_count": 18,
   "metadata": {},
   "outputs": [],
   "source": [
    "opcodeInput=np.loadtxt(\"input_day5.txt\",delimiter=\",\",dtype=int)"
   ]
  },
  {
   "cell_type": "code",
   "execution_count": 3,
   "metadata": {},
   "outputs": [
    {
     "data": {
      "text/plain": [
       "array([    3,   225,     1,   225,     6,     6,  1100,     1,   238,\n",
       "         225,   104,     0,  1002,    92,    42,   224,  1001,   224,\n",
       "       -3444,   224,     4,   224,   102,     8,   223,   223,   101,\n",
       "           4,   224,   224,     1,   224,   223,   223,  1102,    24,\n",
       "          81,   225,  1101,    89,    36,   224,   101,  -125,   224,\n",
       "         224,     4,   224,   102,     8,   223,   223,   101,     5,\n",
       "         224,   224,     1,   224,   223,   223,     2,   118,   191,\n",
       "         224,   101,  -880,   224,   224,     4,   224,  1002,   223,\n",
       "           8,   223,  1001,   224,     7,   224,     1,   224,   223,\n",
       "         223,  1102,    68,    94,   225,  1101,    85,    91,   225,\n",
       "        1102,    91,    82,   225,  1102,    85,    77,   224,   101,\n",
       "       -6545,   224,   224,     4,   224,  1002,   223,     8,   223,\n",
       "         101,     7,   224,   224,     1,   223,   224,   223,  1101,\n",
       "          84,    20,   225,   102,    41,    36,   224,   101, -3321,\n",
       "         224,   224,     4,   224,  1002,   223,     8,   223,   101,\n",
       "           7,   224,   224,     1,   223,   224,   223,     1,   188,\n",
       "          88,   224,   101,  -183,   224,   224,     4,   224,  1002,\n",
       "         223,     8,   223,  1001,   224,     7,   224,     1,   224,\n",
       "         223,   223,  1001,    84,    43,   224,  1001,   224,  -137,\n",
       "         224,     4,   224,   102,     8,   223,   223,   101,     4,\n",
       "         224,   224,     1,   224,   223,   223,  1102,    71,    92,\n",
       "         225,  1101,    44,    50,   225,  1102,    29,    47,   225,\n",
       "         101,     7,   195,   224,   101,   -36,   224,   224,     4,\n",
       "         224,   102,     8,   223,   223,   101,     6,   224,   224,\n",
       "           1,   223,   224,   223,     4,   223,    99,     0,     0,\n",
       "           0,   677,     0,     0,     0,     0,     0,     0,     0,\n",
       "           0,     0,     0,     0,  1105,     0, 99999,  1105,   227,\n",
       "         247,  1105,     1, 99999,  1005,   227, 99999,  1005,     0,\n",
       "         256,  1105,     1, 99999,  1106,   227, 99999,  1106,     0,\n",
       "         265,  1105,     1, 99999,  1006,     0, 99999,  1006,   227,\n",
       "         274,  1105,     1, 99999,  1105,     1,   280,  1105,     1,\n",
       "       99999,     1,   225,   225,   225,  1101,   294,     0,     0,\n",
       "         105,     1,     0,  1105,     1, 99999,  1106,     0,   300,\n",
       "        1105,     1, 99999,     1,   225,   225,   225,  1101,   314,\n",
       "           0,     0,   106,     0,     0,  1105,     1, 99999,   107,\n",
       "         677,   677,   224,  1002,   223,     2,   223,  1006,   224,\n",
       "         329,  1001,   223,     1,   223,  1108,   226,   677,   224,\n",
       "         102,     2,   223,   223,  1006,   224,   344,   101,     1,\n",
       "         223,   223,  1107,   226,   226,   224,  1002,   223,     2,\n",
       "         223,  1006,   224,   359,   101,     1,   223,   223,     8,\n",
       "         677,   226,   224,  1002,   223,     2,   223,  1006,   224,\n",
       "         374,  1001,   223,     1,   223,  1107,   677,   226,   224,\n",
       "         102,     2,   223,   223,  1005,   224,   389,  1001,   223,\n",
       "           1,   223,  1008,   677,   677,   224,  1002,   223,     2,\n",
       "         223,  1006,   224,   404,  1001,   223,     1,   223,   108,\n",
       "         677,   677,   224,   102,     2,   223,   223,  1005,   224,\n",
       "         419,  1001,   223,     1,   223,  1107,   226,   677,   224,\n",
       "         102,     2,   223,   223,  1006,   224,   434,   101,     1,\n",
       "         223,   223,  1008,   226,   226,   224,  1002,   223,     2,\n",
       "         223,  1006,   224,   449,  1001,   223,     1,   223,   107,\n",
       "         226,   226,   224,   102,     2,   223,   223,  1006,   224,\n",
       "         464,  1001,   223,     1,   223,  1007,   677,   226,   224,\n",
       "        1002,   223,     2,   223,  1006,   224,   479,  1001,   223,\n",
       "           1,   223,  1108,   226,   226,   224,   102,     2,   223,\n",
       "         223,  1006,   224,   494,  1001,   223,     1,   223,     8,\n",
       "         226,   226,   224,  1002,   223,     2,   223,  1005,   224,\n",
       "         509,  1001,   223,     1,   223,     7,   226,   677,   224,\n",
       "         102,     2,   223,   223,  1005,   224,   524,   101,     1,\n",
       "         223,   223,  1008,   677,   226,   224,   102,     2,   223,\n",
       "         223,  1005,   224,   539,   101,     1,   223,   223,   107,\n",
       "         226,   677,   224,  1002,   223,     2,   223,  1006,   224,\n",
       "         554,  1001,   223,     1,   223,  1108,   677,   226,   224,\n",
       "         102,     2,   223,   223,  1005,   224,   569,   101,     1,\n",
       "         223,   223,   108,   226,   226,   224,  1002,   223,     2,\n",
       "         223,  1005,   224,   584,  1001,   223,     1,   223,     7,\n",
       "         677,   226,   224,  1002,   223,     2,   223,  1005,   224,\n",
       "         599,  1001,   223,     1,   223,   108,   226,   677,   224,\n",
       "        1002,   223,     2,   223,  1006,   224,   614,   101,     1,\n",
       "         223,   223,  1007,   677,   677,   224,  1002,   223,     2,\n",
       "         223,  1006,   224,   629,   101,     1,   223,   223,     7,\n",
       "         677,   677,   224,   102,     2,   223,   223,  1005,   224,\n",
       "         644,   101,     1,   223,   223,  1007,   226,   226,   224,\n",
       "        1002,   223,     2,   223,  1006,   224,   659,  1001,   223,\n",
       "           1,   223,     8,   226,   677,   224,   102,     2,   223,\n",
       "         223,  1005,   224,   674,  1001,   223,     1,   223,     4,\n",
       "         223,    99,   226])"
      ]
     },
     "execution_count": 3,
     "metadata": {},
     "output_type": "execute_result"
    }
   ],
   "source": [
    "opcodeInput"
   ]
  },
  {
   "cell_type": "code",
   "execution_count": 23,
   "metadata": {},
   "outputs": [],
   "source": [
    "def decodeCommand(command):\n",
    "    code=command%100\n",
    "    p1Mode=int(command/100)%10\n",
    "    p2Mode=int(command/1000)%10\n",
    "    p3Mode=int(command/10000)%10\n",
    "    return [code, p1Mode, p2Mode, p3Mode]\n",
    "\n",
    "def getArgument(opcode, mode, parameter):\n",
    "    if mode == 0:\n",
    "        # position mode\n",
    "        return opcode[parameter]\n",
    "    else:\n",
    "        # immediate mode\n",
    "        return parameter"
   ]
  },
  {
   "cell_type": "code",
   "execution_count": 29,
   "metadata": {},
   "outputs": [],
   "source": [
    "def processOpcode(opcode, idx):\n",
    "    \n",
    "    decoded = decodeCommand(opcode[idx])\n",
    "    \n",
    "    if decoded[0] == 99:\n",
    "        return\n",
    "    elif decoded[0] == 1:\n",
    "        #add p1 p2 p3\n",
    "        p1 = opcode[idx+1]\n",
    "        p2 = opcode[idx+2]\n",
    "        p3 = opcode[idx+3]\n",
    "        arg1 = getArgument(opcode,decoded[1],p1)\n",
    "        arg2 = getArgument(opcode,decoded[2],p2)\n",
    "        opcode[p3] =  arg1 + arg2\n",
    "        return processOpcode(opcode,idx+4)\n",
    "    elif decoded[0] == 2:\n",
    "        #multiply p1 p2 p3\n",
    "        p1 = opcode[idx+1]\n",
    "        p2 = opcode[idx+2]\n",
    "        p3 = opcode[idx+3]\n",
    "        arg1 = getArgument(opcode,decoded[1],p1)\n",
    "        arg2 = getArgument(opcode,decoded[2],p2)\n",
    "        opcode[p3] =  arg1 * arg2\n",
    "        return processOpcode(opcode,idx+4)\n",
    "    elif decoded[0] == 3:\n",
    "        #input p1\n",
    "        p1 = opcode[idx+1]\n",
    "        var = input(\"Please enter input: \")\n",
    "        opcode[p1] = int(var)\n",
    "        return processOpcode(opcode,idx+2)\n",
    "    elif decoded[0] == 4:\n",
    "        #output p1\n",
    "        p1 = opcode[idx+1]\n",
    "        arg1 = getArgument(opcode,decoded[1],p1)\n",
    "        print(arg1)\n",
    "        return processOpcode(opcode,idx+2)\n",
    "    elif decoded[0] == 5:\n",
    "        #jump-if-true p1 p2\n",
    "        p1 = opcode[idx+1]\n",
    "        p2 = opcode[idx+2]\n",
    "        arg1 = getArgument(opcode,decoded[1],p1)\n",
    "        arg2 = getArgument(opcode,decoded[2],p2)\n",
    "        if arg1 != 0:\n",
    "            return processOpcode(opcode,arg2)\n",
    "        else:      \n",
    "            return processOpcode(opcode,idx+3)\n",
    "    elif decoded[0] == 6:\n",
    "        #jump-if-false p1 p2\n",
    "        p1 = opcode[idx+1]\n",
    "        p2 = opcode[idx+2]\n",
    "        arg1 = getArgument(opcode,decoded[1],p1)\n",
    "        arg2 = getArgument(opcode,decoded[2],p2)\n",
    "        if arg1 == 0:\n",
    "            return processOpcode(opcode,arg2)\n",
    "        else:      \n",
    "            return processOpcode(opcode,idx+3)\n",
    "    elif decoded[0] == 7:\n",
    "        #less-than p1 p2 p3\n",
    "        p1 = opcode[idx+1]\n",
    "        p2 = opcode[idx+2]\n",
    "        p3 = opcode[idx+3]\n",
    "        arg1 = getArgument(opcode,decoded[1],p1)\n",
    "        arg2 = getArgument(opcode,decoded[2],p2)\n",
    "        if arg1 < arg2:\n",
    "            opcode[p3]=1\n",
    "        else:      \n",
    "            opcode[p3]=0\n",
    "        return processOpcode(opcode,idx+4)\n",
    "    elif decoded[0] == 8:\n",
    "        #equals p1 p2 p3\n",
    "        p1 = opcode[idx+1]\n",
    "        p2 = opcode[idx+2]\n",
    "        p3 = opcode[idx+3]\n",
    "        arg1 = getArgument(opcode,decoded[1],p1)\n",
    "        arg2 = getArgument(opcode,decoded[2],p2)\n",
    "        if arg1 == arg2:\n",
    "            opcode[p3]=1\n",
    "        else:      \n",
    "            opcode[p3]=0\n",
    "        return processOpcode(opcode,idx+4)\n",
    "    else:\n",
    "        print(\"Invalid code \", opcode, idx, opcode[idx], decoded)\n",
    "        return"
   ]
  },
  {
   "cell_type": "code",
   "execution_count": 46,
   "metadata": {},
   "outputs": [
    {
     "name": "stdout",
     "output_type": "stream",
     "text": [
      "Please enter input: 1000\n",
      "1001\n",
      "[3, 21, 1008, 21, 8, 20, 1005, 20, 22, 107, 8, 21, 20, 1006, 20, 31, 1106, 0, 36, 98, 1001, 1000, 1002, 21, 125, 20, 4, 20, 1105, 1, 46, 104, 999, 1105, 1, 46, 1101, 1000, 1, 20, 4, 20, 1105, 1, 46, 98, 99]\n"
     ]
    }
   ],
   "source": [
    "testopcode=[3,21,1008,21,8,20,1005,20,22,107,8,21,20,1006,20,31,\n",
    "1106,0,36,98,0,0,1002,21,125,20,4,20,1105,1,46,104,\n",
    "999,1105,1,46,1101,1000,1,20,4,20,1105,1,46,98,99]\n",
    "processOpcode(testopcode,0)\n",
    "print(testopcode)"
   ]
  },
  {
   "cell_type": "code",
   "execution_count": 47,
   "metadata": {},
   "outputs": [
    {
     "name": "stdout",
     "output_type": "stream",
     "text": [
      "Please enter input: 5\n",
      "742621\n"
     ]
    }
   ],
   "source": [
    "opcode=opcodeInput.copy()\n",
    "processOpcode(opcode,0)"
   ]
  },
  {
   "cell_type": "code",
   "execution_count": null,
   "metadata": {},
   "outputs": [],
   "source": []
  }
 ],
 "metadata": {
  "kernelspec": {
   "display_name": "Python 3",
   "language": "python",
   "name": "python3"
  },
  "language_info": {
   "codemirror_mode": {
    "name": "ipython",
    "version": 3
   },
   "file_extension": ".py",
   "mimetype": "text/x-python",
   "name": "python",
   "nbconvert_exporter": "python",
   "pygments_lexer": "ipython3",
   "version": "3.6.5"
  }
 },
 "nbformat": 4,
 "nbformat_minor": 2
}
