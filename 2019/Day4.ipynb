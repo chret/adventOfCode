{
 "cells": [
  {
   "cell_type": "code",
   "execution_count": 1,
   "metadata": {},
   "outputs": [],
   "source": [
    "def isInRange(pw, rangeMin, rangeMax):\n",
    "    if pw >= rangeMin and pw <= rangeMax:\n",
    "        return True\n",
    "    return False    "
   ]
  },
  {
   "cell_type": "code",
   "execution_count": 10,
   "metadata": {},
   "outputs": [],
   "source": [
    "def getNthDigit(pw,n):\n",
    "    temp = int(pw / 10**(5-n))\n",
    "    return temp%10    "
   ]
  },
  {
   "cell_type": "code",
   "execution_count": 15,
   "metadata": {},
   "outputs": [],
   "source": [
    "def hasTwoAdjacentSameDigits(pw):\n",
    "    for i in range(0,5):\n",
    "        if getNthDigit(pw,i) == getNthDigit(pw,i+1):\n",
    "            return True\n",
    "    return False"
   ]
  },
  {
   "cell_type": "code",
   "execution_count": 16,
   "metadata": {},
   "outputs": [],
   "source": [
    "def areDigitsIncreasing(pw):\n",
    "    for i in range(0,5):\n",
    "        if getNthDigit(pw,i) > getNthDigit(pw,i+1):\n",
    "            return False\n",
    "    return True"
   ]
  },
  {
   "cell_type": "code",
   "execution_count": 17,
   "metadata": {},
   "outputs": [],
   "source": [
    "rangeMin=109165\n",
    "rangeMax=576723\n",
    "counter=0\n",
    "for pw in range(rangeMin,rangeMax+1):\n",
    "    if hasTwoAdjacentSameDigits(pw) and areDigitsIncreasing(pw):\n",
    "        counter = counter+1"
   ]
  },
  {
   "cell_type": "code",
   "execution_count": 18,
   "metadata": {},
   "outputs": [
    {
     "data": {
      "text/plain": [
       "2814"
      ]
     },
     "execution_count": 18,
     "metadata": {},
     "output_type": "execute_result"
    }
   ],
   "source": [
    "counter"
   ]
  },
  {
   "cell_type": "code",
   "execution_count": 63,
   "metadata": {},
   "outputs": [],
   "source": [
    "def hasExactlyTwoAdjacentSameDigits(pw):\n",
    "    if getNthDigit(pw,0) == getNthDigit(pw,1) and getNthDigit(pw,1) != getNthDigit(pw,2):\n",
    "            return True\n",
    "    for i in range(1,4):\n",
    "        if getNthDigit(pw,i-1) != getNthDigit(pw,i) and getNthDigit(pw,i) == getNthDigit(pw,i+1) and getNthDigit(pw,i+1)!= getNthDigit(pw,i+2):\n",
    "            return True\n",
    "    if getNthDigit(pw,3) != getNthDigit(pw,4) and getNthDigit(pw,4) == getNthDigit(pw,5):\n",
    "            return True\n",
    "    return False"
   ]
  },
  {
   "cell_type": "code",
   "execution_count": 64,
   "metadata": {},
   "outputs": [],
   "source": [
    "counter=0\n",
    "for pw in range(rangeMin,rangeMax+1):\n",
    "    if hasTwoAdjacentSameDigits(pw) and areDigitsIncreasing(pw) and hasExactlyTwoAdjacentSameDigits(pw):\n",
    "        counter = counter+1"
   ]
  },
  {
   "cell_type": "code",
   "execution_count": 65,
   "metadata": {},
   "outputs": [
    {
     "data": {
      "text/plain": [
       "1991"
      ]
     },
     "execution_count": 65,
     "metadata": {},
     "output_type": "execute_result"
    }
   ],
   "source": [
    "counter"
   ]
  },
  {
   "cell_type": "code",
   "execution_count": 66,
   "metadata": {},
   "outputs": [],
   "source": [
    "assert hasExactlyTwoAdjacentSameDigits(112233)\n",
    "assert not hasExactlyTwoAdjacentSameDigits(123444)\n",
    "assert hasExactlyTwoAdjacentSameDigits(111122)"
   ]
  },
  {
   "cell_type": "code",
   "execution_count": 33,
   "metadata": {},
   "outputs": [
    {
     "name": "stdout",
     "output_type": "stream",
     "text": [
      "2814\n",
      "1991\n"
     ]
    }
   ],
   "source": [
    "#solution from reddit\n",
    "from collections import Counter\n",
    "\n",
    "cnt = 0\n",
    "nums = []\n",
    "\n",
    "for i in range(rangeMin,rangeMax+1):\n",
    "    st = str(i)\n",
    "    f1 = any([st[i] < st[i-1] for i in range(1, len(st))])\n",
    "    f2 = any([st[i] == st[i-1] for i in range(1, len(st))])\n",
    "    \n",
    "    if f2 and not f1:\n",
    "        nums.append(st)\n",
    "        cnt += 1\n",
    "\n",
    "print(cnt)\n",
    "cnt2 = 0\n",
    "\n",
    "for n in nums:\n",
    "    if 2 in Counter(n).values():\n",
    "        cnt2 += 1\n",
    "\n",
    "print(cnt2)"
   ]
  },
  {
   "cell_type": "code",
   "execution_count": null,
   "metadata": {},
   "outputs": [],
   "source": []
  }
 ],
 "metadata": {
  "kernelspec": {
   "display_name": "Python 3",
   "language": "python",
   "name": "python3"
  },
  "language_info": {
   "codemirror_mode": {
    "name": "ipython",
    "version": 3
   },
   "file_extension": ".py",
   "mimetype": "text/x-python",
   "name": "python",
   "nbconvert_exporter": "python",
   "pygments_lexer": "ipython3",
   "version": "3.6.5"
  }
 },
 "nbformat": 4,
 "nbformat_minor": 2
}
